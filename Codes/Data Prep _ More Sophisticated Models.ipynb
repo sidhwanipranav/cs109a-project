{
 "cells": [
  {
   "cell_type": "markdown",
   "metadata": {},
   "source": [
    "# CS 109a: Final Project\n",
    "# Predicting Loan Outcomes\n",
    "\n",
    "### Team members:\n",
    "\n",
    "Maryam Alireza, Hector Cordero, Regina Legarreta, Pranav Sidhwani"
   ]
  },
  {
   "cell_type": "markdown",
   "metadata": {},
   "source": [
    "## Model"
   ]
  },
  {
   "cell_type": "markdown",
   "metadata": {},
   "source": [
    "### Loading libraries"
   ]
  },
  {
   "cell_type": "code",
   "execution_count": 1,
   "metadata": {
    "collapsed": false
   },
   "outputs": [],
   "source": [
    "import numpy as np\n",
    "import pandas as pd\n",
    "from sklearn.linear_model import LinearRegression as Lin_Reg\n",
    "from sklearn.linear_model import Ridge as Ridge_Reg\n",
    "from sklearn.linear_model import Lasso as Lasso_Reg\n",
    "from sklearn.cross_validation import KFold\n",
    "from sklearn.utils import shuffle\n",
    "from sklearn import preprocessing\n",
    "from sklearn.cross_validation import cross_val_score\n",
    "from sklearn.cross_validation import cross_val_predict\n",
    "from sklearn.linear_model import LogisticRegression\n",
    "from sklearn.discriminant_analysis import LinearDiscriminantAnalysis as LDA\n",
    "from sklearn.discriminant_analysis import QuadraticDiscriminantAnalysis as QDA\n",
    "from sklearn.neighbors import KNeighborsClassifier as KNN\n",
    "from sklearn.tree import DecisionTreeClassifier as DecisionTree\n",
    "from sklearn.ensemble import RandomForestClassifier as RandomForest\n",
    "from sklearn.svm import SVC\n",
    "from sklearn.cross_validation import train_test_split\n",
    "from sklearn.preprocessing import Imputer\n",
    "import statsmodels.formula.api as sm\n",
    "from statsmodels.regression.linear_model import OLS\n",
    "import itertools as it\n",
    "import matplotlib\n",
    "import matplotlib.pyplot as plt\n",
    "import matplotlib.cm as cmx\n",
    "import matplotlib.colors as colors\n",
    "import scipy as sp\n",
    "from itertools import combinations\n",
    "from datetime import datetime\n",
    "from sklearn.linear_model import LogisticRegression\n",
    "from sklearn.preprocessing import Imputer\n",
    "from sklearn import metrics\n",
    "%matplotlib inline\n",
    "import time\n"
   ]
  },
  {
   "cell_type": "markdown",
   "metadata": {},
   "source": [
    "### Importing the dataset"
   ]
  },
  {
   "cell_type": "code",
   "execution_count": 2,
   "metadata": {
    "collapsed": false
   },
   "outputs": [
    {
     "data": {
      "text/html": [
       "<div>\n",
       "<table border=\"1\" class=\"dataframe\">\n",
       "  <thead>\n",
       "    <tr style=\"text-align: right;\">\n",
       "      <th></th>\n",
       "      <th>id</th>\n",
       "      <th>member_id</th>\n",
       "      <th>loan_amnt</th>\n",
       "      <th>funded_amnt</th>\n",
       "      <th>funded_amnt_inv</th>\n",
       "      <th>term</th>\n",
       "      <th>int_rate</th>\n",
       "      <th>installment</th>\n",
       "      <th>grade</th>\n",
       "      <th>sub_grade</th>\n",
       "      <th>...</th>\n",
       "      <th>total_bal_il</th>\n",
       "      <th>il_util</th>\n",
       "      <th>open_rv_12m</th>\n",
       "      <th>open_rv_24m</th>\n",
       "      <th>max_bal_bc</th>\n",
       "      <th>all_util</th>\n",
       "      <th>total_rev_hi_lim</th>\n",
       "      <th>inq_fi</th>\n",
       "      <th>total_cu_tl</th>\n",
       "      <th>inq_last_12m</th>\n",
       "    </tr>\n",
       "  </thead>\n",
       "  <tbody>\n",
       "    <tr>\n",
       "      <th>0</th>\n",
       "      <td>1077501</td>\n",
       "      <td>1296599</td>\n",
       "      <td>5000.0</td>\n",
       "      <td>5000.0</td>\n",
       "      <td>4975.0</td>\n",
       "      <td>36 months</td>\n",
       "      <td>10.65</td>\n",
       "      <td>162.87</td>\n",
       "      <td>B</td>\n",
       "      <td>B2</td>\n",
       "      <td>...</td>\n",
       "      <td>NaN</td>\n",
       "      <td>NaN</td>\n",
       "      <td>NaN</td>\n",
       "      <td>NaN</td>\n",
       "      <td>NaN</td>\n",
       "      <td>NaN</td>\n",
       "      <td>NaN</td>\n",
       "      <td>NaN</td>\n",
       "      <td>NaN</td>\n",
       "      <td>NaN</td>\n",
       "    </tr>\n",
       "    <tr>\n",
       "      <th>1</th>\n",
       "      <td>1077430</td>\n",
       "      <td>1314167</td>\n",
       "      <td>2500.0</td>\n",
       "      <td>2500.0</td>\n",
       "      <td>2500.0</td>\n",
       "      <td>60 months</td>\n",
       "      <td>15.27</td>\n",
       "      <td>59.83</td>\n",
       "      <td>C</td>\n",
       "      <td>C4</td>\n",
       "      <td>...</td>\n",
       "      <td>NaN</td>\n",
       "      <td>NaN</td>\n",
       "      <td>NaN</td>\n",
       "      <td>NaN</td>\n",
       "      <td>NaN</td>\n",
       "      <td>NaN</td>\n",
       "      <td>NaN</td>\n",
       "      <td>NaN</td>\n",
       "      <td>NaN</td>\n",
       "      <td>NaN</td>\n",
       "    </tr>\n",
       "    <tr>\n",
       "      <th>2</th>\n",
       "      <td>1077175</td>\n",
       "      <td>1313524</td>\n",
       "      <td>2400.0</td>\n",
       "      <td>2400.0</td>\n",
       "      <td>2400.0</td>\n",
       "      <td>36 months</td>\n",
       "      <td>15.96</td>\n",
       "      <td>84.33</td>\n",
       "      <td>C</td>\n",
       "      <td>C5</td>\n",
       "      <td>...</td>\n",
       "      <td>NaN</td>\n",
       "      <td>NaN</td>\n",
       "      <td>NaN</td>\n",
       "      <td>NaN</td>\n",
       "      <td>NaN</td>\n",
       "      <td>NaN</td>\n",
       "      <td>NaN</td>\n",
       "      <td>NaN</td>\n",
       "      <td>NaN</td>\n",
       "      <td>NaN</td>\n",
       "    </tr>\n",
       "    <tr>\n",
       "      <th>3</th>\n",
       "      <td>1076863</td>\n",
       "      <td>1277178</td>\n",
       "      <td>10000.0</td>\n",
       "      <td>10000.0</td>\n",
       "      <td>10000.0</td>\n",
       "      <td>36 months</td>\n",
       "      <td>13.49</td>\n",
       "      <td>339.31</td>\n",
       "      <td>C</td>\n",
       "      <td>C1</td>\n",
       "      <td>...</td>\n",
       "      <td>NaN</td>\n",
       "      <td>NaN</td>\n",
       "      <td>NaN</td>\n",
       "      <td>NaN</td>\n",
       "      <td>NaN</td>\n",
       "      <td>NaN</td>\n",
       "      <td>NaN</td>\n",
       "      <td>NaN</td>\n",
       "      <td>NaN</td>\n",
       "      <td>NaN</td>\n",
       "    </tr>\n",
       "    <tr>\n",
       "      <th>4</th>\n",
       "      <td>1075358</td>\n",
       "      <td>1311748</td>\n",
       "      <td>3000.0</td>\n",
       "      <td>3000.0</td>\n",
       "      <td>3000.0</td>\n",
       "      <td>60 months</td>\n",
       "      <td>12.69</td>\n",
       "      <td>67.79</td>\n",
       "      <td>B</td>\n",
       "      <td>B5</td>\n",
       "      <td>...</td>\n",
       "      <td>NaN</td>\n",
       "      <td>NaN</td>\n",
       "      <td>NaN</td>\n",
       "      <td>NaN</td>\n",
       "      <td>NaN</td>\n",
       "      <td>NaN</td>\n",
       "      <td>NaN</td>\n",
       "      <td>NaN</td>\n",
       "      <td>NaN</td>\n",
       "      <td>NaN</td>\n",
       "    </tr>\n",
       "  </tbody>\n",
       "</table>\n",
       "<p>5 rows × 74 columns</p>\n",
       "</div>"
      ],
      "text/plain": [
       "        id  member_id  loan_amnt  funded_amnt  funded_amnt_inv        term  \\\n",
       "0  1077501    1296599     5000.0       5000.0           4975.0   36 months   \n",
       "1  1077430    1314167     2500.0       2500.0           2500.0   60 months   \n",
       "2  1077175    1313524     2400.0       2400.0           2400.0   36 months   \n",
       "3  1076863    1277178    10000.0      10000.0          10000.0   36 months   \n",
       "4  1075358    1311748     3000.0       3000.0           3000.0   60 months   \n",
       "\n",
       "   int_rate  installment grade sub_grade     ...      total_bal_il il_util  \\\n",
       "0     10.65       162.87     B        B2     ...               NaN     NaN   \n",
       "1     15.27        59.83     C        C4     ...               NaN     NaN   \n",
       "2     15.96        84.33     C        C5     ...               NaN     NaN   \n",
       "3     13.49       339.31     C        C1     ...               NaN     NaN   \n",
       "4     12.69        67.79     B        B5     ...               NaN     NaN   \n",
       "\n",
       "  open_rv_12m  open_rv_24m max_bal_bc all_util total_rev_hi_lim inq_fi  \\\n",
       "0         NaN          NaN        NaN      NaN              NaN    NaN   \n",
       "1         NaN          NaN        NaN      NaN              NaN    NaN   \n",
       "2         NaN          NaN        NaN      NaN              NaN    NaN   \n",
       "3         NaN          NaN        NaN      NaN              NaN    NaN   \n",
       "4         NaN          NaN        NaN      NaN              NaN    NaN   \n",
       "\n",
       "  total_cu_tl inq_last_12m  \n",
       "0         NaN          NaN  \n",
       "1         NaN          NaN  \n",
       "2         NaN          NaN  \n",
       "3         NaN          NaN  \n",
       "4         NaN          NaN  \n",
       "\n",
       "[5 rows x 74 columns]"
      ]
     },
     "execution_count": 2,
     "metadata": {},
     "output_type": "execute_result"
    }
   ],
   "source": [
    "#Reading the data as a pandas dataframe\n",
    "data = pd.read_csv('Data/loan.csv', low_memory=False)\n",
    "\n",
    "# Looking at the first 5 observations\n",
    "data.head(5)"
   ]
  },
  {
   "cell_type": "markdown",
   "metadata": {},
   "source": [
    "### Preliminaries"
   ]
  },
  {
   "cell_type": "code",
   "execution_count": 3,
   "metadata": {
    "collapsed": true
   },
   "outputs": [],
   "source": [
    "# Converting dates to datetime format\n",
    "\n",
    "data['issue_d']=data['issue_d'].apply(lambda x: datetime.strptime(x,'%b-%Y'))\n"
   ]
  },
  {
   "cell_type": "markdown",
   "metadata": {},
   "source": [
    "#### Creating working data bases "
   ]
  },
  {
   "cell_type": "code",
   "execution_count": 4,
   "metadata": {
    "collapsed": false
   },
   "outputs": [],
   "source": [
    "# Keeping only inactive loans \n",
    "\n",
    "df = data[data['loan_status'].isin(['Fully Paid', 'Charged Off', 'Default'])]\n",
    "\n",
    "df=df[df['issue_d']<=datetime(2012,12,31)] # Minimum term is 36 months and we have data until Dec 2015"
   ]
  },
  {
   "cell_type": "markdown",
   "metadata": {},
   "source": [
    "#### Handling missing data"
   ]
  },
  {
   "cell_type": "code",
   "execution_count": 5,
   "metadata": {
    "collapsed": false
   },
   "outputs": [],
   "source": [
    "#We look at each column to judge if the number of missing values is too high and consequently drop\n",
    "column_name=[]\n",
    "length=[]\n",
    "for column in df.columns:\n",
    "    column_name.append(column)\n",
    "    longi= 1 - len(df[column][df[column].isnull()]) / float(len(df['id']))\n",
    "    length.append(longi)"
   ]
  },
  {
   "cell_type": "code",
   "execution_count": 6,
   "metadata": {
    "collapsed": false
   },
   "outputs": [
    {
     "data": {
      "image/png": "[encoded data removed]",
      "text/plain": [
       "<matplotlib.figure.Figure at 0x1151b2710>"
      ]
     },
     "metadata": {},
     "output_type": "display_data"
    }
   ],
   "source": [
    "fig = plt.figure(figsize=(15,5))\n",
    "ax1 = fig.add_subplot(111)\n",
    "labels = column_name\n",
    "ax1.xaxis.set_ticks(np.arange(0, 74, 1))\n",
    "ax1.set_xticklabels(labels, rotation=90, ha='right',rotation_mode='anchor')\n",
    "ax1.bar(np.arange(74),length)\n",
    "plt.show()"
   ]
  },
  {
   "cell_type": "code",
   "execution_count": 7,
   "metadata": {
    "collapsed": false
   },
   "outputs": [],
   "source": [
    "# Months since last delinquency has missing values if borrower has not had a delinquency, \n",
    "# so we replace missings by a large number.\n",
    "\n",
    "df.mths_since_last_delinq.unique()\n",
    "\n",
    "df.ix[df.mths_since_last_delinq.isnull(), 'mths_since_last_delinq'] = 9999\n",
    "\n"
   ]
  },
  {
   "cell_type": "code",
   "execution_count": 8,
   "metadata": {
    "collapsed": false
   },
   "outputs": [],
   "source": [
    "# Auxiliary function to replace missings by zero and non-missings by one.\n",
    "\n",
    "def replace_desc(x):\n",
    "    if pd.isnull(x):\n",
    "        return 0\n",
    "    else:\n",
    "        return 1\n"
   ]
  },
  {
   "cell_type": "code",
   "execution_count": 9,
   "metadata": {
    "collapsed": false
   },
   "outputs": [],
   "source": [
    "# we replace desc (a string variable with a lot of text) by a variable that takes the value of one if the \n",
    "# borrower provided a description for the loan and zero if she/he did not.\n",
    "\n",
    "df['desc'] = data['desc'].map(replace_desc)\n",
    "df['emp_title'] = data['emp_title'].map(replace_desc)"
   ]
  },
  {
   "cell_type": "code",
   "execution_count": 10,
   "metadata": {
    "collapsed": false
   },
   "outputs": [
    {
     "data": {
      "text/html": [
       "<div>\n",
       "<table border=\"1\" class=\"dataframe\">\n",
       "  <thead>\n",
       "    <tr style=\"text-align: right;\">\n",
       "      <th></th>\n",
       "      <th>id</th>\n",
       "      <th>member_id</th>\n",
       "      <th>loan_amnt</th>\n",
       "      <th>funded_amnt</th>\n",
       "      <th>funded_amnt_inv</th>\n",
       "      <th>term</th>\n",
       "      <th>int_rate</th>\n",
       "      <th>installment</th>\n",
       "      <th>grade</th>\n",
       "      <th>sub_grade</th>\n",
       "      <th>...</th>\n",
       "      <th>total_rec_late_fee</th>\n",
       "      <th>recoveries</th>\n",
       "      <th>collection_recovery_fee</th>\n",
       "      <th>last_pymnt_d</th>\n",
       "      <th>last_pymnt_amnt</th>\n",
       "      <th>last_credit_pull_d</th>\n",
       "      <th>collections_12_mths_ex_med</th>\n",
       "      <th>policy_code</th>\n",
       "      <th>application_type</th>\n",
       "      <th>acc_now_delinq</th>\n",
       "    </tr>\n",
       "  </thead>\n",
       "  <tbody>\n",
       "    <tr>\n",
       "      <th>0</th>\n",
       "      <td>1077501</td>\n",
       "      <td>1296599</td>\n",
       "      <td>5000.0</td>\n",
       "      <td>5000.0</td>\n",
       "      <td>4975.0</td>\n",
       "      <td>36 months</td>\n",
       "      <td>10.65</td>\n",
       "      <td>162.87</td>\n",
       "      <td>B</td>\n",
       "      <td>B2</td>\n",
       "      <td>...</td>\n",
       "      <td>0.00</td>\n",
       "      <td>0.00</td>\n",
       "      <td>0.00</td>\n",
       "      <td>Jan-2015</td>\n",
       "      <td>171.62</td>\n",
       "      <td>Jan-2016</td>\n",
       "      <td>0.0</td>\n",
       "      <td>1.0</td>\n",
       "      <td>INDIVIDUAL</td>\n",
       "      <td>0.0</td>\n",
       "    </tr>\n",
       "    <tr>\n",
       "      <th>1</th>\n",
       "      <td>1077430</td>\n",
       "      <td>1314167</td>\n",
       "      <td>2500.0</td>\n",
       "      <td>2500.0</td>\n",
       "      <td>2500.0</td>\n",
       "      <td>60 months</td>\n",
       "      <td>15.27</td>\n",
       "      <td>59.83</td>\n",
       "      <td>C</td>\n",
       "      <td>C4</td>\n",
       "      <td>...</td>\n",
       "      <td>0.00</td>\n",
       "      <td>117.08</td>\n",
       "      <td>1.11</td>\n",
       "      <td>Apr-2013</td>\n",
       "      <td>119.66</td>\n",
       "      <td>Sep-2013</td>\n",
       "      <td>0.0</td>\n",
       "      <td>1.0</td>\n",
       "      <td>INDIVIDUAL</td>\n",
       "      <td>0.0</td>\n",
       "    </tr>\n",
       "    <tr>\n",
       "      <th>2</th>\n",
       "      <td>1077175</td>\n",
       "      <td>1313524</td>\n",
       "      <td>2400.0</td>\n",
       "      <td>2400.0</td>\n",
       "      <td>2400.0</td>\n",
       "      <td>36 months</td>\n",
       "      <td>15.96</td>\n",
       "      <td>84.33</td>\n",
       "      <td>C</td>\n",
       "      <td>C5</td>\n",
       "      <td>...</td>\n",
       "      <td>0.00</td>\n",
       "      <td>0.00</td>\n",
       "      <td>0.00</td>\n",
       "      <td>Jun-2014</td>\n",
       "      <td>649.91</td>\n",
       "      <td>Jan-2016</td>\n",
       "      <td>0.0</td>\n",
       "      <td>1.0</td>\n",
       "      <td>INDIVIDUAL</td>\n",
       "      <td>0.0</td>\n",
       "    </tr>\n",
       "    <tr>\n",
       "      <th>3</th>\n",
       "      <td>1076863</td>\n",
       "      <td>1277178</td>\n",
       "      <td>10000.0</td>\n",
       "      <td>10000.0</td>\n",
       "      <td>10000.0</td>\n",
       "      <td>36 months</td>\n",
       "      <td>13.49</td>\n",
       "      <td>339.31</td>\n",
       "      <td>C</td>\n",
       "      <td>C1</td>\n",
       "      <td>...</td>\n",
       "      <td>16.97</td>\n",
       "      <td>0.00</td>\n",
       "      <td>0.00</td>\n",
       "      <td>Jan-2015</td>\n",
       "      <td>357.48</td>\n",
       "      <td>Jan-2015</td>\n",
       "      <td>0.0</td>\n",
       "      <td>1.0</td>\n",
       "      <td>INDIVIDUAL</td>\n",
       "      <td>0.0</td>\n",
       "    </tr>\n",
       "    <tr>\n",
       "      <th>5</th>\n",
       "      <td>1075269</td>\n",
       "      <td>1311441</td>\n",
       "      <td>5000.0</td>\n",
       "      <td>5000.0</td>\n",
       "      <td>5000.0</td>\n",
       "      <td>36 months</td>\n",
       "      <td>7.90</td>\n",
       "      <td>156.46</td>\n",
       "      <td>A</td>\n",
       "      <td>A4</td>\n",
       "      <td>...</td>\n",
       "      <td>0.00</td>\n",
       "      <td>0.00</td>\n",
       "      <td>0.00</td>\n",
       "      <td>Jan-2015</td>\n",
       "      <td>161.03</td>\n",
       "      <td>Sep-2015</td>\n",
       "      <td>0.0</td>\n",
       "      <td>1.0</td>\n",
       "      <td>INDIVIDUAL</td>\n",
       "      <td>0.0</td>\n",
       "    </tr>\n",
       "  </tbody>\n",
       "</table>\n",
       "<p>5 rows × 51 columns</p>\n",
       "</div>"
      ],
      "text/plain": [
       "        id  member_id  loan_amnt  funded_amnt  funded_amnt_inv        term  \\\n",
       "0  1077501    1296599     5000.0       5000.0           4975.0   36 months   \n",
       "1  1077430    1314167     2500.0       2500.0           2500.0   60 months   \n",
       "2  1077175    1313524     2400.0       2400.0           2400.0   36 months   \n",
       "3  1076863    1277178    10000.0      10000.0          10000.0   36 months   \n",
       "5  1075269    1311441     5000.0       5000.0           5000.0   36 months   \n",
       "\n",
       "   int_rate  installment grade sub_grade       ...        total_rec_late_fee  \\\n",
       "0     10.65       162.87     B        B2       ...                      0.00   \n",
       "1     15.27        59.83     C        C4       ...                      0.00   \n",
       "2     15.96        84.33     C        C5       ...                      0.00   \n",
       "3     13.49       339.31     C        C1       ...                     16.97   \n",
       "5      7.90       156.46     A        A4       ...                      0.00   \n",
       "\n",
       "  recoveries collection_recovery_fee  last_pymnt_d last_pymnt_amnt  \\\n",
       "0       0.00                    0.00      Jan-2015          171.62   \n",
       "1     117.08                    1.11      Apr-2013          119.66   \n",
       "2       0.00                    0.00      Jun-2014          649.91   \n",
       "3       0.00                    0.00      Jan-2015          357.48   \n",
       "5       0.00                    0.00      Jan-2015          161.03   \n",
       "\n",
       "  last_credit_pull_d collections_12_mths_ex_med policy_code application_type  \\\n",
       "0           Jan-2016                        0.0         1.0       INDIVIDUAL   \n",
       "1           Sep-2013                        0.0         1.0       INDIVIDUAL   \n",
       "2           Jan-2016                        0.0         1.0       INDIVIDUAL   \n",
       "3           Jan-2015                        0.0         1.0       INDIVIDUAL   \n",
       "5           Sep-2015                        0.0         1.0       INDIVIDUAL   \n",
       "\n",
       "   acc_now_delinq  \n",
       "0             0.0  \n",
       "1             0.0  \n",
       "2             0.0  \n",
       "3             0.0  \n",
       "5             0.0  \n",
       "\n",
       "[5 rows x 51 columns]"
      ]
     },
     "execution_count": 10,
     "metadata": {},
     "output_type": "execute_result"
    }
   ],
   "source": [
    "# Identifying and dropping the columns that have too many missing values to use.\n",
    "\n",
    "complete_cols = [column for column in df.columns if len(df[column][df[column].isnull()]) <= len(df[column])/3 ]\n",
    "df = df[complete_cols]\n",
    "df.head()"
   ]
  },
  {
   "cell_type": "code",
   "execution_count": 11,
   "metadata": {
    "collapsed": true
   },
   "outputs": [],
   "source": [
    "#A second vizualization of the number of missing values\n",
    "column_name=[]\n",
    "length=[]\n",
    "for column in df.columns:\n",
    "    column_name.append(column)\n",
    "    longi= 1 - len(df[column][df[column].isnull()]) / float(len(df['id']))\n",
    "    length.append(longi)"
   ]
  },
  {
   "cell_type": "code",
   "execution_count": 12,
   "metadata": {
    "collapsed": false
   },
   "outputs": [
    {
     "data": {
      "image/png": "[encoded data removed]",
      "text/plain": [
       "<matplotlib.figure.Figure at 0x11bc40e50>"
      ]
     },
     "metadata": {},
     "output_type": "display_data"
    }
   ],
   "source": [
    "fig = plt.figure(figsize=(15,5))\n",
    "ax1 = fig.add_subplot(111)\n",
    "#status.plot.bar(ax=ax1, by='loan_status',width=0.8)\n",
    "labels = column_name\n",
    "ax1.xaxis.set_ticks(np.arange(0, 51, 1))\n",
    "ax1.set_xticklabels(labels, rotation=90, ha='right',rotation_mode='anchor')\n",
    "ax1.bar(np.arange(51),length)\n",
    "plt.show()"
   ]
  },
  {
   "cell_type": "code",
   "execution_count": 13,
   "metadata": {
    "collapsed": true
   },
   "outputs": [],
   "source": [
    "def replace_missing(x):\n",
    "    if pd.isnull(x):\n",
    "        return 'missing'\n",
    "    else:\n",
    "        return x"
   ]
  },
  {
   "cell_type": "code",
   "execution_count": 14,
   "metadata": {
    "collapsed": true
   },
   "outputs": [],
   "source": [
    "#df['emp_title'] = df['emp_title'].map(replace_missing)"
   ]
  },
  {
   "cell_type": "markdown",
   "metadata": {},
   "source": [
    "Now we don't have more missing values"
   ]
  },
  {
   "cell_type": "markdown",
   "metadata": {},
   "source": [
    "### More clean-up"
   ]
  },
  {
   "cell_type": "code",
   "execution_count": 15,
   "metadata": {
    "collapsed": false
   },
   "outputs": [],
   "source": [
    "# Dropping variables that we should not use\n",
    "\n",
    "#Identification variables\n",
    "df = df.drop('id', axis= 1)\n",
    "df = df.drop('member_id', axis= 1)\n",
    "\n",
    "# Non-predictors\n",
    "df = df.drop('url', axis= 1)\n",
    "df = df.drop('policy_code', axis= 1)\n",
    "\n",
    "# Grade variables \n",
    "df = df.drop('grade', axis= 1)\n",
    "df = df.drop('sub_grade', axis= 1)\n",
    "\n",
    "#Since we only have inactive loans, the ones with outstandign balance are only the ones that defaulted\n",
    "df = df.drop('out_prncp_inv', axis= 1) \n",
    "df = df.drop('out_prncp', axis= 1)\n",
    "\n",
    "#Ex-post indicators of default\n",
    "df = df.drop('acc_now_delinq', axis= 1)\n",
    "df = df.drop('collections_12_mths_ex_med', axis = 1)\n",
    "df = df.drop('total_pymnt', axis = 1)\n",
    "df = df.drop('total_pymnt_inv', axis = 1)\n",
    "df = df.drop('total_rec_prncp', axis = 1)\n",
    "df = df.drop('total_rec_int', axis = 1)\n",
    "df = df.drop('total_rec_late_fee', axis = 1)\n",
    "df = df.drop('recoveries', axis = 1)\n",
    "df = df.drop('collection_recovery_fee', axis = 1)\n",
    "df = df.drop('last_pymnt_amnt', axis = 1)\n",
    "df = df.drop('pymnt_plan', axis = 1)\n",
    "df = df.drop('revol_util',axis = 1)\n",
    "df = df.drop('last_pymnt_d', axis= 1)\n",
    "df = df.drop('last_credit_pull_d', axis= 1)\n",
    "\n",
    "#Variables that do not vary\n",
    "df = df.drop('application_type', axis = 1) #all individual\n",
    "\n",
    "# Too many values in categorical variables \n",
    "df = df.drop('zip_code', axis= 1) # We could use this variable but we are using State for geography\n",
    "#df = df.drop('emp_title', axis= 1) ....same as desc\n",
    "df = df.drop('title', axis= 1)\n"
   ]
  },
  {
   "cell_type": "code",
   "execution_count": 16,
   "metadata": {
    "collapsed": false
   },
   "outputs": [
    {
     "name": "stdout",
     "output_type": "stream",
     "text": [
      "Data type:\n",
      "loan_amnt                        float64\n",
      "funded_amnt                      float64\n",
      "funded_amnt_inv                  float64\n",
      "term                              object\n",
      "int_rate                         float64\n",
      "installment                      float64\n",
      "emp_title                          int64\n",
      "emp_length                        object\n",
      "home_ownership                    object\n",
      "annual_inc                       float64\n",
      "verification_status               object\n",
      "issue_d                   datetime64[ns]\n",
      "loan_status                       object\n",
      "desc                               int64\n",
      "purpose                           object\n",
      "addr_state                        object\n",
      "dti                              float64\n",
      "delinq_2yrs                      float64\n",
      "earliest_cr_line                  object\n",
      "inq_last_6mths                   float64\n",
      "mths_since_last_delinq           float64\n",
      "open_acc                         float64\n",
      "pub_rec                          float64\n",
      "revol_bal                        float64\n",
      "total_acc                        float64\n",
      "initial_list_status               object\n",
      "dtype: object\n"
     ]
    }
   ],
   "source": [
    "# Checking data type of remaining columns\n",
    "print \"Data type:\"\n",
    "print df.dtypes"
   ]
  },
  {
   "cell_type": "code",
   "execution_count": 17,
   "metadata": {
    "collapsed": false
   },
   "outputs": [
    {
     "name": "stdout",
     "output_type": "stream",
     "text": [
      "Number of Unique Values: \n",
      "loan_amnt - 1106\n",
      "funded_amnt - 1151\n",
      "funded_amnt_inv - 8445\n",
      "int_rate - 406\n",
      "installment - 23062\n",
      "annual_inc - 8841\n",
      "dti - 3493\n",
      "delinq_2yrs - 16\n",
      "inq_last_6mths - 9\n",
      "mths_since_last_delinq - 107\n",
      "open_acc - 45\n",
      "pub_rec - 6\n",
      "revol_bal - 32342\n",
      "total_acc - 84\n"
     ]
    }
   ],
   "source": [
    "# getting the number of unique values in every column (float)\n",
    "aux=df.select_dtypes(include=['float64'])\n",
    "df_col = aux.columns\n",
    "print \"Number of Unique Values: \"\n",
    "for i in range(len(df_col)):\n",
    "    print df_col[i] + \" - \" + str(df[df_col[i]].nunique())"
   ]
  },
  {
   "cell_type": "code",
   "execution_count": 18,
   "metadata": {
    "collapsed": false
   },
   "outputs": [
    {
     "name": "stdout",
     "output_type": "stream",
     "text": [
      "Number of Unique Values: \n",
      "term - 2\n",
      "emp_length - 12\n",
      "home_ownership - 5\n",
      "verification_status - 3\n",
      "loan_status - 3\n",
      "purpose - 14\n",
      "addr_state - 50\n",
      "earliest_cr_line - 564\n",
      "initial_list_status - 2\n"
     ]
    }
   ],
   "source": [
    "# getting the number of unique values in every column (string)\n",
    "aux=df.select_dtypes(include=['object'])\n",
    "df_col = aux.columns\n",
    "print \"Number of Unique Values: \"\n",
    "for i in range(len(df_col)):\n",
    "    print df_col[i] + \" - \" + str(df[df_col[i]].nunique())"
   ]
  },
  {
   "cell_type": "markdown",
   "metadata": {},
   "source": [
    "#### Crating new features with the data we have to inform algorithm."
   ]
  },
  {
   "cell_type": "code",
   "execution_count": 19,
   "metadata": {
    "collapsed": true
   },
   "outputs": [],
   "source": [
    "# Convert date to date format\n",
    "\n",
    "df['earliest_cr_line']=df['earliest_cr_line'].apply(lambda x: datetime.strptime(x,'%b-%Y'))\n"
   ]
  },
  {
   "cell_type": "code",
   "execution_count": 20,
   "metadata": {
    "collapsed": false
   },
   "outputs": [],
   "source": [
    "# Create new variable: years since earliest credit line \n",
    "# (earliest_cr_line is the date of the borrower's earliest credit line)\n",
    "\n",
    "df['yrs_since_earliest_cr'] = df['issue_d']-df['earliest_cr_line']\n",
    "df['yrs_since_earliest_cr'] = df['yrs_since_earliest_cr'].astype('timedelta64[Y]')\n",
    "\n",
    "df = df.drop('earliest_cr_line', axis= 1)"
   ]
  },
  {
   "cell_type": "code",
   "execution_count": 21,
   "metadata": {
    "collapsed": true
   },
   "outputs": [],
   "source": [
    "# Auxiliary variable that we will use later to create the time-test set\n",
    "\n",
    "df['time_test'] = df['issue_d'] > datetime(2012,9,30)\n",
    "df = df.drop('issue_d', axis= 1)"
   ]
  },
  {
   "cell_type": "code",
   "execution_count": 22,
   "metadata": {
    "collapsed": false
   },
   "outputs": [
    {
     "data": {
      "text/html": [
       "<div>\n",
       "<table border=\"1\" class=\"dataframe\">\n",
       "  <thead>\n",
       "    <tr style=\"text-align: right;\">\n",
       "      <th></th>\n",
       "      <th>term</th>\n",
       "      <th>emp_length</th>\n",
       "      <th>home_ownership</th>\n",
       "      <th>verification_status</th>\n",
       "      <th>loan_status</th>\n",
       "      <th>purpose</th>\n",
       "      <th>addr_state</th>\n",
       "      <th>initial_list_status</th>\n",
       "    </tr>\n",
       "  </thead>\n",
       "  <tbody>\n",
       "    <tr>\n",
       "      <th>0</th>\n",
       "      <td>36 months</td>\n",
       "      <td>10+ years</td>\n",
       "      <td>RENT</td>\n",
       "      <td>Verified</td>\n",
       "      <td>Fully Paid</td>\n",
       "      <td>credit_card</td>\n",
       "      <td>AZ</td>\n",
       "      <td>f</td>\n",
       "    </tr>\n",
       "    <tr>\n",
       "      <th>1</th>\n",
       "      <td>60 months</td>\n",
       "      <td>&lt; 1 year</td>\n",
       "      <td>RENT</td>\n",
       "      <td>Source Verified</td>\n",
       "      <td>Charged Off</td>\n",
       "      <td>car</td>\n",
       "      <td>GA</td>\n",
       "      <td>f</td>\n",
       "    </tr>\n",
       "    <tr>\n",
       "      <th>2</th>\n",
       "      <td>36 months</td>\n",
       "      <td>10+ years</td>\n",
       "      <td>RENT</td>\n",
       "      <td>Not Verified</td>\n",
       "      <td>Fully Paid</td>\n",
       "      <td>small_business</td>\n",
       "      <td>IL</td>\n",
       "      <td>f</td>\n",
       "    </tr>\n",
       "    <tr>\n",
       "      <th>3</th>\n",
       "      <td>36 months</td>\n",
       "      <td>10+ years</td>\n",
       "      <td>RENT</td>\n",
       "      <td>Source Verified</td>\n",
       "      <td>Fully Paid</td>\n",
       "      <td>other</td>\n",
       "      <td>CA</td>\n",
       "      <td>f</td>\n",
       "    </tr>\n",
       "    <tr>\n",
       "      <th>5</th>\n",
       "      <td>36 months</td>\n",
       "      <td>3 years</td>\n",
       "      <td>RENT</td>\n",
       "      <td>Source Verified</td>\n",
       "      <td>Fully Paid</td>\n",
       "      <td>wedding</td>\n",
       "      <td>AZ</td>\n",
       "      <td>f</td>\n",
       "    </tr>\n",
       "  </tbody>\n",
       "</table>\n",
       "</div>"
      ],
      "text/plain": [
       "         term emp_length home_ownership verification_status  loan_status  \\\n",
       "0   36 months  10+ years           RENT            Verified   Fully Paid   \n",
       "1   60 months   < 1 year           RENT     Source Verified  Charged Off   \n",
       "2   36 months  10+ years           RENT        Not Verified   Fully Paid   \n",
       "3   36 months  10+ years           RENT     Source Verified   Fully Paid   \n",
       "5   36 months    3 years           RENT     Source Verified   Fully Paid   \n",
       "\n",
       "          purpose addr_state initial_list_status  \n",
       "0     credit_card         AZ                   f  \n",
       "1             car         GA                   f  \n",
       "2  small_business         IL                   f  \n",
       "3           other         CA                   f  \n",
       "5         wedding         AZ                   f  "
      ]
     },
     "execution_count": 22,
     "metadata": {},
     "output_type": "execute_result"
    }
   ],
   "source": [
    "df.select_dtypes(include=['object']).head()"
   ]
  },
  {
   "cell_type": "code",
   "execution_count": 23,
   "metadata": {
    "collapsed": true
   },
   "outputs": [],
   "source": [
    "#Creating vriable of interest \n",
    "\n",
    "df['default2'] = df['loan_status'].isin(['Charged Off', 'Default'])\n",
    "\n",
    "df = df.drop('loan_status', axis= 1)"
   ]
  },
  {
   "cell_type": "code",
   "execution_count": 24,
   "metadata": {
    "collapsed": false
   },
   "outputs": [],
   "source": [
    "#Encode categorical variables\n",
    "\n",
    "aux=df.select_dtypes(include=['object'])\n",
    "categ = aux.columns.tolist()\n",
    "for feature_name in categ: \n",
    "    df = df.join(pd.get_dummies(df[feature_name], prefix = feature_name,drop_first=True))\n",
    "    df = df.drop(feature_name, axis=1)\n"
   ]
  },
  {
   "cell_type": "code",
   "execution_count": 25,
   "metadata": {
    "collapsed": false
   },
   "outputs": [],
   "source": [
    "df['default']=df['default2']\n",
    "df=df.drop('default2',axis=1)\n",
    "df.default = df.default.astype(int)"
   ]
  },
  {
   "cell_type": "code",
   "execution_count": 26,
   "metadata": {
    "collapsed": false
   },
   "outputs": [
    {
     "name": "stdout",
     "output_type": "stream",
     "text": [
      "[[  1.00000000e+00   9.92281296e-01   9.73704943e-01 ...,   5.20698470e-04\n",
      "    3.98001627e-02   7.47618864e-02]\n",
      " [  9.92281296e-01   1.00000000e+00   9.82494571e-01 ...,   7.70691205e-04\n",
      "    4.34783663e-02   7.38044614e-02]\n",
      " [  9.73704943e-01   9.82494571e-01   1.00000000e+00 ...,   1.68224197e-03\n",
      "    5.01671755e-02   6.65562427e-02]\n",
      " ..., \n",
      " [  5.20698470e-04   7.70691205e-04   1.68224197e-03 ...,   1.00000000e+00\n",
      "   -3.63674049e-03  -9.14224867e-03]\n",
      " [  3.98001627e-02   4.34783663e-02   5.01671755e-02 ...,  -3.63674049e-03\n",
      "    1.00000000e+00  -5.38013864e-03]\n",
      " [  7.47618864e-02   7.38044614e-02   6.65562427e-02 ...,  -9.14224867e-03\n",
      "   -5.38013864e-03   1.00000000e+00]]\n"
     ]
    }
   ],
   "source": [
    "# Check preliminary correlations\n",
    "\n",
    "x=df.values\n",
    "x=x.astype(float)\n",
    "corr_matrix = np.corrcoef(x.T)\n",
    "\n",
    "print corr_matrix\n"
   ]
  },
  {
   "cell_type": "code",
   "execution_count": 27,
   "metadata": {
    "collapsed": true
   },
   "outputs": [],
   "source": [
    "df=df.drop('funded_amnt',axis=1) #almost perfectly correlated with loan amount"
   ]
  },
  {
   "cell_type": "code",
   "execution_count": 28,
   "metadata": {
    "collapsed": false
   },
   "outputs": [
    {
     "data": {
      "text/plain": [
       "<matplotlib.axes._subplots.AxesSubplot at 0x11a3efd10>"
      ]
     },
     "execution_count": 28,
     "metadata": {},
     "output_type": "execute_result"
    },
    {
     "data": {
      "image/png": "[encoded data removed]",
      "text/plain": [
       "<matplotlib.figure.Figure at 0x114ff56d0>"
      ]
     },
     "metadata": {},
     "output_type": "display_data"
    }
   ],
   "source": [
    "# Check visualization that seems important\n",
    "\n",
    "df.groupby(['default'])['term_ 60 months'].mean().plot(kind='bar')"
   ]
  },
  {
   "cell_type": "markdown",
   "metadata": {},
   "source": [
    "### Creating train and test sets"
   ]
  },
  {
   "cell_type": "code",
   "execution_count": 29,
   "metadata": {
    "collapsed": true
   },
   "outputs": [],
   "source": [
    "# train and test sets for intertemporal-validation\n",
    "\n",
    "time_test = df[df['time_test']==1]\n",
    "\n",
    "time_train = df[df['time_test']==0]\n",
    "\n",
    "\n",
    "time_test = time_test.drop('time_test', axis= 1)\n",
    "time_train = time_train.drop('time_test', axis= 1)"
   ]
  },
  {
   "cell_type": "code",
   "execution_count": 30,
   "metadata": {
    "collapsed": false
   },
   "outputs": [],
   "source": [
    "x_ttest = time_test.values[:,:-1]\n",
    "y_ttest = time_test.values[:,-1]\n",
    "\n",
    "x_ttrain = time_train.values[:,:-1]\n",
    "y_ttrain = time_train.values[:,-1]"
   ]
  },
  {
   "cell_type": "code",
   "execution_count": 31,
   "metadata": {
    "collapsed": true
   },
   "outputs": [],
   "source": [
    "# train and test sets for cross-validation\n",
    "\n",
    "x_train, x_test, y_train, y_test = train_test_split(x_ttrain , y_ttrain, test_size=0.33, random_state=354)\n"
   ]
  },
  {
   "cell_type": "code",
   "execution_count": 32,
   "metadata": {
    "collapsed": true
   },
   "outputs": [],
   "source": [
    "# Standardization\n",
    "std_train = x_train.std(axis = 0)\n",
    "std_test = x_test.std(axis = 0)\n",
    "std_ttest = x_ttest.std(axis = 0)\n",
    "\n",
    "# Check for 0 std-dev to avoid dividing by zero\n",
    "std_train[std_train == 0] = 1\n",
    "std_test[std_test == 0] = 1\n",
    "std_ttest[std_ttest == 0] = 1\n",
    "\n",
    "sx_train = x_train / std_train\n",
    "sx_test = x_test / std_test\n",
    "sx_ttest = x_ttest / std_ttest"
   ]
  },
  {
   "cell_type": "markdown",
   "metadata": {},
   "source": [
    "### Fitting and tunning different models"
   ]
  },
  {
   "cell_type": "code",
   "execution_count": 33,
   "metadata": {
    "collapsed": false
   },
   "outputs": [
    {
     "name": "stdout",
     "output_type": "stream",
     "text": [
      "Best K: 18 ; Score: 0.841505346875\n",
      "Note: no standarization\n"
     ]
    }
   ],
   "source": [
    "#KNN Training\n",
    "#3-fold cross-validation\n",
    "    \n",
    "kfold = KFold(len(y_train), 3, random_state=354)\n",
    "\n",
    "# Keep track of best model\n",
    "best_score = 0\n",
    "\n",
    "for k in range(1, 20):\n",
    "    model = KNN(n_neighbors = k)\n",
    "    scores = cross_val_score(model, x_train, y_train, cv=kfold, n_jobs=1) \n",
    "    \n",
    "    if np.mean(scores) > best_score:\n",
    "        best_score = np.mean(scores)\n",
    "        best_n_neighbors = k\n",
    "print 'Best K: ' + str(best_n_neighbors), '; Score: ' + str(best_score)\n",
    "print 'Note: no standarization'"
   ]
  },
  {
   "cell_type": "code",
   "execution_count": 34,
   "metadata": {
    "collapsed": false
   },
   "outputs": [
    {
     "name": "stdout",
     "output_type": "stream",
     "text": [
      "Best C: 2 ; Score: 0.844460898568\n"
     ]
    }
   ],
   "source": [
    "#Unweighted logistic regression Training\n",
    "#3-fold cross-validation\n",
    "\n",
    "kfold = KFold(len(y_train), 3, random_state=354)\n",
    "\n",
    "# Keep track of best model\n",
    "best_score = 0\n",
    "\n",
    "for C in range(-7, 7):\n",
    "    model = LogisticRegression(penalty='l2', C = 10**C)\n",
    "    scores = cross_val_score(model, sx_train, y_train, cv=kfold, n_jobs=1) \n",
    "    \n",
    "    if np.mean(scores) > best_score:\n",
    "        best_score = np.mean(scores)\n",
    "        best_C = C\n",
    "print 'Best C: ' + str(best_C), '; Score: ' + str(best_score)\n"
   ]
  },
  {
   "cell_type": "code",
   "execution_count": 35,
   "metadata": {
    "collapsed": false
   },
   "outputs": [
    {
     "name": "stdout",
     "output_type": "stream",
     "text": [
      "Best C: -2 ; Score: 0.838422019009\n"
     ]
    }
   ],
   "source": [
    "#Unweighted logistic quadratic regression Training\n",
    "#3-fold cross-validation\n",
    "\n",
    "kfold = KFold(len(y_train), 3, random_state=354)\n",
    "\n",
    "# Keep track of best model\n",
    "best_score = 0\n",
    "\n",
    "for C in range(-2, 3):\n",
    "    model = LogisticRegression(penalty='l2', C = 10**C)\n",
    "    quad_features = preprocessing.PolynomialFeatures(degree = 2)\n",
    "    x_expanded_train = quad_features.fit_transform(sx_train)\n",
    "    scores = cross_val_score(model, x_expanded_train, y_train, cv=kfold, n_jobs=1) \n",
    "\n",
    "    if np.mean(scores) > best_score:\n",
    "        best_score = np.mean(scores)\n",
    "        best_C_poly = C\n",
    "\n",
    "print 'Best C: ' + str(best_C_poly), '; Score: ' + str(best_score)\n"
   ]
  },
  {
   "cell_type": "code",
   "execution_count": 36,
   "metadata": {
    "collapsed": false
   },
   "outputs": [
    {
     "name": "stdout",
     "output_type": "stream",
     "text": [
      "Best C: 1 ; Score: 0.668466959209\n"
     ]
    }
   ],
   "source": [
    "#Weighted logistic regression Training\n",
    "#3-fold cross-validation\n",
    "\n",
    "kfold = KFold(len(y_train), 3, random_state=354)\n",
    "\n",
    "# Keep track of best model\n",
    "best_score = 0\n",
    "\n",
    "for C in range(-7, 7):\n",
    "    model = LogisticRegression(penalty='l2', C = 10**C, class_weight='balanced')\n",
    "    scores = cross_val_score(model, sx_train, y_train, cv=kfold, n_jobs=1)\n",
    "    if np.mean(scores) > best_score:\n",
    "        best_score = np.mean(scores)\n",
    "        best_C_W = C\n",
    "\n",
    "print 'Best C: ' + str(best_C_W), '; Score: ' + str(best_score)\n"
   ]
  },
  {
   "cell_type": "code",
   "execution_count": 37,
   "metadata": {
    "collapsed": false
   },
   "outputs": [
    {
     "name": "stdout",
     "output_type": "stream",
     "text": [
      "Best depth: 29 ; Score: 0.739166496021\n"
     ]
    }
   ],
   "source": [
    "#Decision Tree Training\n",
    "#3-fold cross-validation\n",
    "\n",
    "kfold = KFold(len(y_train), 3, random_state=3344)\n",
    "\n",
    "# To keep track of the best model\n",
    "best_score = 0\n",
    "\n",
    "for d in range(1, 30, 2):\n",
    "    model = DecisionTree(max_depth= d, class_weight='balanced')\n",
    "    scores = cross_val_score(model, sx_train, y_train, cv=kfold, n_jobs=1) \n",
    "\n",
    "    if np.mean(scores) > best_score:\n",
    "        best_score = np.mean(scores)\n",
    "        best_depth = d\n",
    "\n",
    "print 'Best depth: ' + str(best_depth), '; Score: ' + str(best_score)\n",
    "\n"
   ]
  },
  {
   "cell_type": "code",
   "execution_count": 38,
   "metadata": {
    "collapsed": false
   },
   "outputs": [
    {
     "name": "stdout",
     "output_type": "stream",
     "text": [
      "Best depth: 29 ; Score: 0.83484999245\n"
     ]
    }
   ],
   "source": [
    "#Random Forest Training\n",
    "#3-fold cross-validation\n",
    "\n",
    "kfold = KFold(len(y_train), 3, random_state=354)\n",
    "\n",
    "# To keep track of the best model\n",
    "best_score = 0\n",
    "\n",
    "for d in range(1, 30, 2):\n",
    "    model = RandomForest(max_depth=d, class_weight='balanced')\n",
    "    scores = cross_val_score(model, sx_train, y_train, cv=kfold, n_jobs=1)\n",
    "\n",
    "    if np.mean(scores) > best_score:\n",
    "        best_score = np.mean(scores)\n",
    "        best_depth_rf = d\n",
    "\n",
    "print 'Best depth: ' + str(best_depth_rf), '; Score: ' + str(best_score)\n",
    "\n"
   ]
  },
  {
   "cell_type": "code",
   "execution_count": 39,
   "metadata": {
    "collapsed": false
   },
   "outputs": [],
   "source": [
    "#SVM Training\n",
    "#3-fold cross-validation\n",
    "\n",
    "\n",
    "#kfold = KFold(len(y_train), 3, random_state=354)\n",
    "\n",
    "# To keep track of the best model\n",
    "#best_score = 0\n",
    "\n",
    "# Kernel alternatives\n",
    "#kernel_list = ['rbf', 'linear', 'poly'] \n",
    "\n",
    "#for i in range(0,1):\n",
    "\n",
    "#    for C in range(-1, 2):\n",
    "#        model = SVC(C = 10**C, kernel = kernel_list[i], tol=0.1)\n",
    "#        scores = cross_val_score(model, sx_train, y_train, cv=kfold, n_jobs=1)\n",
    "#\n",
    "#        if np.mean(scores) > best_score:\n",
    "#            best_score = np.mean(scores)\n",
    "#            best_CSVM = C\n",
    "#            best_kernel = kernel_list[i]\n",
    "#    print \"done with \" + kernel_list[i]\n",
    "#\n",
    "#print 'Best C: ' + str(best_CSVM), '; Best Kernel: ' + best_kernel, '; Score: ' + str(best_score)\n",
    "\n"
   ]
  },
  {
   "cell_type": "code",
   "execution_count": 40,
   "metadata": {
    "collapsed": false
   },
   "outputs": [],
   "source": [
    "#Compare models (code from Lecture 19\n",
    "score = lambda model, x_test, y_test: pd.Series([model.score(x_test, y_test), \n",
    "                                                     model.score(x_test[y_test==0], y_test[y_test==0]),\n",
    "                                                     model.score(x_test[y_test==1], y_test[y_test==1])], \n",
    "                                                     index=['overall accuracy', 'accuracy on fully paid', 'accuracy defaulted'])\n",
    "\n",
    "def compare_models(x_train, sx_train, y_train, x_test, sx_test, y_test):\n",
    "\n",
    "\n",
    "    #KNN\n",
    "    start = time.time()\n",
    "    knn = KNN(n_neighbors = best_n_neighbors)\n",
    "    knn.fit(x_train, y_train)\n",
    "    knn_scores = score(knn, x_test, y_test)\n",
    "    end = time.time()\n",
    "    knn_time = (end - start)\n",
    "    print 'KNN works'\n",
    "\n",
    "    #Unweighted logistic regression\n",
    "    start = time.time()\n",
    "    unweighted_logistic = LogisticRegression(penalty='l2', C = 10**best_C)\n",
    "    unweighted_logistic.fit(sx_train, y_train)\n",
    "    unweighted_log_scores = score(unweighted_logistic, sx_test, y_test)\n",
    "    end = time.time()\n",
    "    unweighted_log_time = (end - start)\n",
    "    print 'ulog works'\n",
    "\n",
    "    #Unweighted logistic quadratic regression\n",
    "    start = time.time()\n",
    "    unweighted_logistic_poly = LogisticRegression(penalty='l2', C = 10**best_C_poly)\n",
    "    #Expand our predictor array with quadratic terms\n",
    "    quad_features = preprocessing.PolynomialFeatures(degree = 2)\n",
    "    x_expanded_train = quad_features.fit_transform(sx_train)\n",
    "    x_expanded_test = quad_features.fit_transform(sx_test)\n",
    "    unweighted_logistic_poly.fit(x_expanded_train, y_train)\n",
    "    unweighted_log_poly_scores = score(unweighted_logistic_poly, x_expanded_test, y_test)\n",
    "    end = time.time()\n",
    "    unweighted_log_poly_time = (end - start)\n",
    "    print 'log poly works'\n",
    "\n",
    "    #Weighted logistic regression\n",
    "    start = time.time()\n",
    "    weighted_logistic = LogisticRegression(C = 10**best_C_W, class_weight='balanced')\n",
    "    weighted_logistic.fit(sx_train, y_train)\n",
    "    weighted_log_scores = score(weighted_logistic, sx_test, y_test)\n",
    "    end = time.time()\n",
    "    weighted_log_time = (end - start)\n",
    "    print 'wlog works'\n",
    "\n",
    "    #LDA\n",
    "    start = time.time()\n",
    "    lda = LDA(priors = None)\n",
    "    lda.fit(sx_train, y_train)\n",
    "    lda_scores = score(lda, sx_test, y_test)\n",
    "    end = time.time()\n",
    "    lda_time = (end - start)\n",
    "    print 'lda works'\n",
    "\n",
    "    #QDA\n",
    "    start = time.time()\n",
    "    qda = QDA(priors = None)\n",
    "    qda.fit(sx_train, y_train)\n",
    "    qda_scores = score(qda, sx_test, y_test)\n",
    "    end = time.time()\n",
    "    qda_time = (end - start)\n",
    "    print 'qda works'\n",
    "\n",
    "    #Decision Tree\n",
    "    start = time.time()\n",
    "    tree = DecisionTree(max_depth= best_depth, class_weight='balanced')\n",
    "    tree.fit(sx_train, y_train)\n",
    "    tree_scores = score(tree, sx_test, y_test)\n",
    "    end = time.time()\n",
    "    tree_time = (end - start)\n",
    "    print 'dt works'\n",
    "\n",
    "    #Random Forest\n",
    "    start = time.time()\n",
    "    rf = RandomForest(max_depth=best_depth_rf, class_weight='balanced')\n",
    "    rf.fit(sx_train, y_train)\n",
    "    rf_scores = score(rf, sx_test, y_test)\n",
    "    end = time.time()\n",
    "    rf_time = (end - start)\n",
    "    print 'rf works'\n",
    "\n",
    "    #SVM\n",
    "    #start = time.time()\n",
    "    #svm = SVC(C=10**best_CSVM, kernel = best_kernel)\n",
    "    #svm.fit(sx_train, y_train)\n",
    "    #svm_scores = score(svm, sx_test, y_test)\n",
    "    #end = time.time()\n",
    "    #svm_time = (end - start)\n",
    "\n",
    "\n",
    "    #Score Dataframe\n",
    "    score_df = pd.DataFrame({'knn': knn_scores,\n",
    "                             'unweighted logistic': unweighted_log_scores,\n",
    "                             'unweighted quad. logistic': unweighted_log_poly_scores,\n",
    "                             'weighted logistic': weighted_log_scores,\n",
    "                             'lda': lda_scores,\n",
    "                             'qda': qda_scores,\n",
    "                             'tree': tree_scores,\n",
    "                             'rf': rf_scores,\n",
    "                             #'svm': svm_scores\n",
    "                              })\n",
    "\n",
    "\n",
    "    time_df = pd.DataFrame({'knn': knn_time,\n",
    "                            'unweighted logistic': unweighted_log_time,\n",
    "                            'unweighted quad. logistic': unweighted_log_time,\n",
    "                            'weighted logistic': unweighted_log_poly_time,\n",
    "                            'lda': lda_time,\n",
    "                            'qda': qda_time,\n",
    "                            'tree': tree_time,\n",
    "                            'rf': rf_time, \n",
    "                            #'svm': svm_time\n",
    "                             }, \n",
    "                             index=['time elapsed'])\n",
    "\n",
    "    fig, ax = plt.subplots(1, 1, figsize=(10, 6))\n",
    "    f1, t1, thresholds = metrics.roc_curve(y_test, knn.predict_proba(x_test)[:,1])\n",
    "    f2, t2, thresholds = metrics.roc_curve(y_test, unweighted_logistic.predict_proba(sx_test)[:,1])\n",
    "    f3, t3, thresholds = metrics.roc_curve(y_test, unweighted_logistic_poly.predict_proba(x_expanded_test)[:,1])\n",
    "    f4, t4, thresholds = metrics.roc_curve(y_test, weighted_logistic.predict_proba(sx_test)[:,1])\n",
    "    f5, t5, thresholds = metrics.roc_curve(y_test, lda.predict_proba(sx_test)[:,1])\n",
    "    f6, t6, thresholds = metrics.roc_curve(y_test, qda.predict_proba(sx_test)[:,1])\n",
    "    f7, t7, thresholds = metrics.roc_curve(y_test, tree.predict_proba(sx_test)[:,1])\n",
    "    f8, t8, thresholds = metrics.roc_curve(y_test, rf.predict_proba(sx_test)[:,1])\n",
    "\n",
    "    plot1=ax.plot(f8,t8,color='green',label='random forest')\n",
    "    plot2=ax.plot(f7,t7,'k--',color='yellow',label='decision tree')\n",
    "    plot3=ax.plot(f6,t6,color='red',label='qda')\n",
    "    plot4=ax.plot(f5,t5,color='orange',label='lda')\n",
    "    plot6=ax.plot(f3,t3,color='blue',label='unweighted quadratic logistic')\n",
    "    plot7=ax.plot(f2,t2,color='gray',label='unweighted logistic')\n",
    "    plot8=ax.plot(f1,t1,color='purple',label='knn')\n",
    "    plot5=ax.plot(f4,t4,color='cyan',label='weighted logistic')\n",
    "    ax.plot([0, 1], [0, 1], 'k--')\n",
    "    ax.legend(bbox_to_anchor=(0., 1.02, 1., .102), loc=3,\n",
    "           ncol=2, mode=\"expand\", borderaxespad=0.)\n",
    "    ax.set_xlabel('False positive rate')\n",
    "    ax.set_ylabel('True positive rate')\n",
    "    \n",
    "    score_df = score_df.append(time_df)\n",
    "\n",
    "    return score_df"
   ]
  },
  {
   "cell_type": "code",
   "execution_count": 41,
   "metadata": {
    "collapsed": false
   },
   "outputs": [
    {
     "name": "stdout",
     "output_type": "stream",
     "text": [
      "Results for observed data (training-test set)\n",
      "KNN works\n",
      "ulog works\n",
      "log poly works\n",
      "wlog works\n"
     ]
    },
    {
     "name": "stderr",
     "output_type": "stream",
     "text": [
      "/Users/Pranav/anaconda/lib/python2.7/site-packages/sklearn/discriminant_analysis.py:387: UserWarning: Variables are collinear.\n",
      "  warnings.warn(\"Variables are collinear.\")\n",
      "/Users/Pranav/anaconda/lib/python2.7/site-packages/sklearn/discriminant_analysis.py:688: UserWarning: Variables are collinear\n",
      "  warnings.warn(\"Variables are collinear\")\n"
     ]
    },
    {
     "name": "stdout",
     "output_type": "stream",
     "text": [
      "lda works\n",
      "qda works\n",
      "dt works\n",
      "rf works\n"
     ]
    },
    {
     "data": {
      "text/html": [
       "<div>\n",
       "<table border=\"1\" class=\"dataframe\">\n",
       "  <thead>\n",
       "    <tr style=\"text-align: right;\">\n",
       "      <th></th>\n",
       "      <th>knn</th>\n",
       "      <th>lda</th>\n",
       "      <th>qda</th>\n",
       "      <th>rf</th>\n",
       "      <th>tree</th>\n",
       "      <th>unweighted logistic</th>\n",
       "      <th>unweighted quad. logistic</th>\n",
       "      <th>weighted logistic</th>\n",
       "    </tr>\n",
       "  </thead>\n",
       "  <tbody>\n",
       "    <tr>\n",
       "      <th>overall accuracy</th>\n",
       "      <td>0.842046</td>\n",
       "      <td>0.841615</td>\n",
       "      <td>0.397151</td>\n",
       "      <td>0.832981</td>\n",
       "      <td>0.736758</td>\n",
       "      <td>0.843212</td>\n",
       "      <td>0.841830</td>\n",
       "      <td>0.670710</td>\n",
       "    </tr>\n",
       "    <tr>\n",
       "      <th>accuracy on fully paid</th>\n",
       "      <td>0.999333</td>\n",
       "      <td>0.985026</td>\n",
       "      <td>0.345777</td>\n",
       "      <td>0.976309</td>\n",
       "      <td>0.819394</td>\n",
       "      <td>0.992257</td>\n",
       "      <td>0.987642</td>\n",
       "      <td>0.678324</td>\n",
       "    </tr>\n",
       "    <tr>\n",
       "      <th>accuracy defaulted</th>\n",
       "      <td>0.004913</td>\n",
       "      <td>0.078330</td>\n",
       "      <td>0.670579</td>\n",
       "      <td>0.070142</td>\n",
       "      <td>0.296943</td>\n",
       "      <td>0.049945</td>\n",
       "      <td>0.065775</td>\n",
       "      <td>0.630186</td>\n",
       "    </tr>\n",
       "    <tr>\n",
       "      <th>time elapsed</th>\n",
       "      <td>8.849504</td>\n",
       "      <td>0.672352</td>\n",
       "      <td>0.695275</td>\n",
       "      <td>1.128315</td>\n",
       "      <td>1.220030</td>\n",
       "      <td>1.065371</td>\n",
       "      <td>1.065371</td>\n",
       "      <td>42.427398</td>\n",
       "    </tr>\n",
       "  </tbody>\n",
       "</table>\n",
       "</div>"
      ],
      "text/plain": [
       "                             knn       lda       qda        rf      tree  \\\n",
       "overall accuracy        0.842046  0.841615  0.397151  0.832981  0.736758   \n",
       "accuracy on fully paid  0.999333  0.985026  0.345777  0.976309  0.819394   \n",
       "accuracy defaulted      0.004913  0.078330  0.670579  0.070142  0.296943   \n",
       "time elapsed            8.849504  0.672352  0.695275  1.128315  1.220030   \n",
       "\n",
       "                        unweighted logistic  unweighted quad. logistic  \\\n",
       "overall accuracy                   0.843212                   0.841830   \n",
       "accuracy on fully paid             0.992257                   0.987642   \n",
       "accuracy defaulted                 0.049945                   0.065775   \n",
       "time elapsed                       1.065371                   1.065371   \n",
       "\n",
       "                        weighted logistic  \n",
       "overall accuracy                 0.670710  \n",
       "accuracy on fully paid           0.678324  \n",
       "accuracy defaulted               0.630186  \n",
       "time elapsed                    42.427398  "
      ]
     },
     "execution_count": 41,
     "metadata": {},
     "output_type": "execute_result"
    },
    {
     "data": {
      "image/png": "[encoded data removed]",
      "text/plain": [
       "<matplotlib.figure.Figure at 0x11ba99fd0>"
      ]
     },
     "metadata": {},
     "output_type": "display_data"
    }
   ],
   "source": [
    "print \"Results for observed data (training-test set)\"\n",
    "\n",
    "results_observed = compare_models(x_train, sx_train, y_train, x_test, sx_test, y_test)\n",
    "\n",
    "results_observed"
   ]
  },
  {
   "cell_type": "markdown",
   "metadata": {},
   "source": [
    "### Feature Importance "
   ]
  },
  {
   "cell_type": "code",
   "execution_count": 42,
   "metadata": {
    "collapsed": false
   },
   "outputs": [
    {
     "name": "stdout",
     "output_type": "stream",
     "text": [
      "Top 10 important features:\n",
      "                   feature  importance\n",
      "2                 int_rate    0.135419\n",
      "7                      dti    0.091437\n",
      "13               revol_bal    0.083505\n",
      "5               annual_inc    0.079818\n",
      "14               total_acc    0.056066\n",
      "3              installment    0.053116\n",
      "15   yrs_since_earliest_cr    0.051500\n",
      "1          funded_amnt_inv    0.042844\n",
      "11                open_acc    0.041649\n",
      "10  mths_since_last_delinq    0.029435\n"
     ]
    }
   ],
   "source": [
    "# Check feature importance using a decision tree\n",
    "dt = DecisionTree(class_weight='balanced')\n",
    "dt.fit(x_train, y_train)\n",
    "y_pred = dt.predict(x_test)\n",
    "\n",
    "x_pandas = time_train.drop('default',axis=1)\n",
    "\n",
    "# Analyze feature importance\n",
    "feature_imps = pd.DataFrame({'feature': x_pandas.columns, 'importance': dt.feature_importances_})\n",
    "feature_imps.sort_values(by='importance', ascending=False, inplace=True)\n",
    "print(\"Top 10 important features:\")\n",
    "print(feature_imps[:10])"
   ]
  },
  {
   "cell_type": "code",
   "execution_count": 43,
   "metadata": {
    "collapsed": false
   },
   "outputs": [
    {
     "name": "stdout",
     "output_type": "stream",
     "text": [
      "Results for future data (time-test set)\n",
      "KNN works\n",
      "ulog works\n",
      "log poly works\n",
      "wlog works\n",
      "lda works\n",
      "qda works\n",
      "dt works\n",
      "rf works\n"
     ]
    },
    {
     "data": {
      "text/html": [
       "<div>\n",
       "<table border=\"1\" class=\"dataframe\">\n",
       "  <thead>\n",
       "    <tr style=\"text-align: right;\">\n",
       "      <th></th>\n",
       "      <th>knn</th>\n",
       "      <th>lda</th>\n",
       "      <th>qda</th>\n",
       "      <th>rf</th>\n",
       "      <th>tree</th>\n",
       "      <th>unweighted logistic</th>\n",
       "      <th>unweighted quad. logistic</th>\n",
       "      <th>weighted logistic</th>\n",
       "    </tr>\n",
       "  </thead>\n",
       "  <tbody>\n",
       "    <tr>\n",
       "      <th>overall accuracy</th>\n",
       "      <td>0.844950</td>\n",
       "      <td>0.840514</td>\n",
       "      <td>0.332049</td>\n",
       "      <td>0.828955</td>\n",
       "      <td>0.703036</td>\n",
       "      <td>0.842790</td>\n",
       "      <td>0.839405</td>\n",
       "      <td>0.614886</td>\n",
       "    </tr>\n",
       "    <tr>\n",
       "      <th>accuracy on fully paid</th>\n",
       "      <td>0.997724</td>\n",
       "      <td>0.968959</td>\n",
       "      <td>0.256260</td>\n",
       "      <td>0.957577</td>\n",
       "      <td>0.770711</td>\n",
       "      <td>0.975926</td>\n",
       "      <td>0.969580</td>\n",
       "      <td>0.606884</td>\n",
       "    </tr>\n",
       "    <tr>\n",
       "      <th>accuracy defaulted</th>\n",
       "      <td>0.003798</td>\n",
       "      <td>0.133308</td>\n",
       "      <td>0.749335</td>\n",
       "      <td>0.120775</td>\n",
       "      <td>0.330422</td>\n",
       "      <td>0.109761</td>\n",
       "      <td>0.122674</td>\n",
       "      <td>0.658944</td>\n",
       "    </tr>\n",
       "    <tr>\n",
       "      <th>time elapsed</th>\n",
       "      <td>7.126392</td>\n",
       "      <td>0.547911</td>\n",
       "      <td>0.545911</td>\n",
       "      <td>1.191704</td>\n",
       "      <td>1.357361</td>\n",
       "      <td>0.854913</td>\n",
       "      <td>0.854913</td>\n",
       "      <td>30.867841</td>\n",
       "    </tr>\n",
       "  </tbody>\n",
       "</table>\n",
       "</div>"
      ],
      "text/plain": [
       "                             knn       lda       qda        rf      tree  \\\n",
       "overall accuracy        0.844950  0.840514  0.332049  0.828955  0.703036   \n",
       "accuracy on fully paid  0.997724  0.968959  0.256260  0.957577  0.770711   \n",
       "accuracy defaulted      0.003798  0.133308  0.749335  0.120775  0.330422   \n",
       "time elapsed            7.126392  0.547911  0.545911  1.191704  1.357361   \n",
       "\n",
       "                        unweighted logistic  unweighted quad. logistic  \\\n",
       "overall accuracy                   0.842790                   0.839405   \n",
       "accuracy on fully paid             0.975926                   0.969580   \n",
       "accuracy defaulted                 0.109761                   0.122674   \n",
       "time elapsed                       0.854913                   0.854913   \n",
       "\n",
       "                        weighted logistic  \n",
       "overall accuracy                 0.614886  \n",
       "accuracy on fully paid           0.606884  \n",
       "accuracy defaulted               0.658944  \n",
       "time elapsed                    30.867841  "
      ]
     },
     "execution_count": 43,
     "metadata": {},
     "output_type": "execute_result"
    },
    {
     "data": {
      "image/png": "[encoded data removed]",
      "text/plain": [
       "<matplotlib.figure.Figure at 0x11bb56fd0>"
      ]
     },
     "metadata": {},
     "output_type": "display_data"
    }
   ],
   "source": [
    "print \"Results for future data (time-test set)\"\n",
    "\n",
    "results_future = compare_models(x_train, sx_train, y_train, x_ttest, sx_ttest, y_ttest)\n",
    "\n",
    "results_future"
   ]
  },
  {
   "cell_type": "code",
   "execution_count": 44,
   "metadata": {
    "collapsed": false
   },
   "outputs": [
    {
     "data": {
      "text/plain": [
       "['term',\n",
       " 'emp_length',\n",
       " 'home_ownership',\n",
       " 'verification_status',\n",
       " 'purpose',\n",
       " 'addr_state',\n",
       " 'initial_list_status']"
      ]
     },
     "execution_count": 44,
     "metadata": {},
     "output_type": "execute_result"
    }
   ],
   "source": [
    "categ\n"
   ]
  },
  {
   "cell_type": "markdown",
   "metadata": {
    "collapsed": true
   },
   "source": [
    "## Estimated probabilities of default and Proposed Scoring\n"
   ]
  },
  {
   "cell_type": "code",
   "execution_count": 45,
   "metadata": {
    "collapsed": true
   },
   "outputs": [],
   "source": [
    "# Estimating probabilities of default \n",
    "\n",
    "#Model: Weighted logistic regression\n",
    "weighted_logistic = LogisticRegression(C = 10**best_C_W, class_weight='balanced')\n",
    "weighted_logistic.fit(sx_train, y_train)\n",
    "\n",
    "#Estimating probabilities \n",
    "predicted_prob_test = weighted_logistic.predict_proba(sx_test)\n",
    "predicted_prob_ttest = weighted_logistic.predict_proba(sx_ttest)"
   ]
  },
  {
   "cell_type": "code",
   "execution_count": 46,
   "metadata": {
    "collapsed": false
   },
   "outputs": [
    {
     "data": {
      "text/plain": [
       "array([[ 0.38474964,  0.61525036],\n",
       "       [ 0.44766476,  0.55233524],\n",
       "       [ 0.24103647,  0.75896353],\n",
       "       ..., \n",
       "       [ 0.17693473,  0.82306527],\n",
       "       [ 0.58147803,  0.41852197],\n",
       "       [ 0.50990363,  0.49009637]])"
      ]
     },
     "execution_count": 46,
     "metadata": {},
     "output_type": "execute_result"
    }
   ],
   "source": [
    "predicted_prob_ttest"
   ]
  },
  {
   "cell_type": "code",
   "execution_count": 47,
   "metadata": {
    "collapsed": true
   },
   "outputs": [],
   "source": [
    "# For comparison with LC grades and actual default grades:\n",
    "\n",
    "df_grade = data[data['loan_status'].isin(['Fully Paid', 'Charged Off', 'Default'])]\n",
    "\n",
    "df_grade=df_grade[df_grade['issue_d']<=datetime(2012,12,31)] \n",
    "\n",
    "time_test_grade = df_grade.loc[time_test.index] \n",
    "\n",
    "time_test_grade['pred_prob_default'] = predicted_prob_ttest[:,1:].astype(float)"
   ]
  },
  {
   "cell_type": "code",
   "execution_count": 48,
   "metadata": {
    "collapsed": true
   },
   "outputs": [],
   "source": [
    "#Proposed socore: score from 1 to 10 with 1 being the worst loan quality and 10 being the best.\n",
    "\n",
    "time_test_grade['score'] = time_test_grade['pred_prob_default'].round(1)*10\n",
    "\n",
    "time_test_grade['score'] = 10 - time_test_grade['score']"
   ]
  },
  {
   "cell_type": "code",
   "execution_count": 50,
   "metadata": {
    "collapsed": false
   },
   "outputs": [
    {
     "data": {
      "image/png": "[encoded data removed]",
      "text/plain": [
       "<matplotlib.figure.Figure at 0x119b4bf90>"
      ]
     },
     "metadata": {},
     "output_type": "display_data"
    }
   ],
   "source": [
    "# Compatring our predicted probabilities to LC grades: highly correlated.\n",
    "\n",
    "fig, (ax1, ax2) = plt.subplots(1, 2, figsize=(15, 5))\n",
    "\n",
    "time_test_grade.groupby(['grade'])['pred_prob_default'].mean().plot(kind='bar', ax=ax1, color = plt.rcParams['axes.color_cycle'][1])\n",
    "ax1.set_xlabel('Grade')\n",
    "ax1.set_ylabel('Mean predicted prob. of default')\n",
    "ax1.set_title('Predicted Probability of Default' '\\n By LC Grades')\n",
    "ax1.set_axis_bgcolor('white')\n",
    "for spine in ['left','right','top','bottom']:\n",
    "    ax1.spines[spine].set_color('k')\n",
    "\n",
    "time_test_grade.groupby(['sub_grade'])['pred_prob_default'].mean().plot(kind='bar', ax=ax2, color = plt.rcParams['axes.color_cycle'][1])\n",
    "ax2.set_xlabel('Sub-Grade')\n",
    "ax2.set_ylabel('Mean predicted prob. of default')\n",
    "ax2.set_title('Predicted Probability of Default' '\\n By LC Sub-Grades')\n",
    "ax2.set_axis_bgcolor('white')\n",
    "for spine in ['left','right','top','bottom']:\n",
    "    ax2.spines[spine].set_color('k')\n",
    "    \n",
    "plt.show()"
   ]
  },
  {
   "cell_type": "code",
   "execution_count": 51,
   "metadata": {
    "collapsed": false
   },
   "outputs": [
    {
     "data": {
      "image/png": "[encoded data removed]",
      "text/plain": [
       "<matplotlib.figure.Figure at 0x11adb8bd0>"
      ]
     },
     "metadata": {},
     "output_type": "display_data"
    }
   ],
   "source": [
    "# Compatring our score to LC grades: highly correlated.\n",
    "\n",
    "fig, (ax1, ax2) = plt.subplots(1, 2, figsize=(15, 5))\n",
    "\n",
    "time_test_grade.groupby(['grade'])['score'].mean().plot(kind='bar', ax=ax1, color = plt.rcParams['axes.color_cycle'][1])\n",
    "ax1.set_xlabel('Grade')\n",
    "ax1.set_ylabel('Mean Score')\n",
    "ax1.set_title('Proposed Score' '\\n By LC Grades')\n",
    "ax1.set_axis_bgcolor('white')\n",
    "for spine in ['left','right','top','bottom']:\n",
    "    ax1.spines[spine].set_color('k')\n",
    "\n",
    "time_test_grade.groupby(['sub_grade'])['score'].mean().plot(kind='bar', ax=ax2, color = plt.rcParams['axes.color_cycle'][1])\n",
    "ax2.set_xlabel('Sub-Grade')\n",
    "ax2.set_ylabel('Mean score')\n",
    "ax2.set_title('Proposed Score' '\\n By LC Sub-Grades')\n",
    "ax2.set_axis_bgcolor('white')\n",
    "for spine in ['left','right','top','bottom']:\n",
    "    ax2.spines[spine].set_color('k')\n",
    "    \n",
    "plt.show()"
   ]
  },
  {
   "cell_type": "code",
   "execution_count": 52,
   "metadata": {
    "collapsed": true
   },
   "outputs": [],
   "source": [
    "time_test_grade['default'] = time_test_grade['loan_status'].isin(['Charged Off', 'Default'])\n",
    "\n"
   ]
  },
  {
   "cell_type": "code",
   "execution_count": 53,
   "metadata": {
    "collapsed": false
   },
   "outputs": [
    {
     "data": {
      "image/png": "[encoded data removed]",
      "text/plain": [
       "<matplotlib.figure.Figure at 0x119c5b4d0>"
      ]
     },
     "metadata": {},
     "output_type": "display_data"
    }
   ],
   "source": [
    "# Comparing the three scoring methods\n",
    "\n",
    "fig, (ax1, ax2, ax3) = plt.subplots(1, 3, figsize=(17, 5))\n",
    "\n",
    "time_test_grade.groupby(['score'])['default'].mean().plot(kind='bar', ax=ax1, color = plt.rcParams['axes.color_cycle'][1])\n",
    "ax1.set_xlabel('Score')\n",
    "ax1.set_ylabel('Default Rate')\n",
    "ax1.set_title('Default Rate by Proposed Score')\n",
    "ax1.set_axis_bgcolor('white')\n",
    "for spine in ['left','right','top','bottom']:\n",
    "    ax1.spines[spine].set_color('k')\n",
    "    \n",
    "time_test_grade.groupby(['grade'])['default'].mean().plot(kind='bar', ax=ax2, color = plt.rcParams['axes.color_cycle'][1])\n",
    "ax2.set_xlabel('Grade')\n",
    "ax2.set_ylabel('Default Rate')\n",
    "ax2.set_title('Default by Grade by LC Grade')\n",
    "ax2.set_axis_bgcolor('white')\n",
    "for spine in ['left','right','top','bottom']:\n",
    "    ax2.spines[spine].set_color('k')\n",
    "    \n",
    "time_test_grade.groupby(['sub_grade'])['default'].mean().plot(kind='bar', ax=ax3, color = plt.rcParams['axes.color_cycle'][1])\n",
    "ax3.set_xlabel('Grade')\n",
    "ax3.set_ylabel('Default Rate')\n",
    "ax3.set_title('Default Rate by Subgrade')\n",
    "ax3.set_axis_bgcolor('white')\n",
    "for spine in ['left','right','top','bottom']:\n",
    "    ax3.spines[spine].set_color('k')\n",
    "    "
   ]
  },
  {
   "cell_type": "code",
   "execution_count": null,
   "metadata": {
    "collapsed": true
   },
   "outputs": [],
   "source": []
  },
  {
   "cell_type": "code",
   "execution_count": null,
   "metadata": {
    "collapsed": true
   },
   "outputs": [],
   "source": []
  }
 ],
 "metadata": {
  "anaconda-cloud": {},
  "kernelspec": {
   "display_name": "Python [Root]",
   "language": "python",
   "name": "Python [Root]"
  },
  "language_info": {
   "codemirror_mode": {
    "name": "ipython",
    "version": 2
   },
   "file_extension": ".py",
   "mimetype": "text/x-python",
   "name": "python",
   "nbconvert_exporter": "python",
   "pygments_lexer": "ipython2",
   "version": "2.7.12"
  }
 },
 "nbformat": 4,
 "nbformat_minor": 0
}
